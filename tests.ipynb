{
 "metadata": {
  "language_info": {
   "codemirror_mode": {
    "name": "ipython",
    "version": 3
   },
   "file_extension": ".py",
   "mimetype": "text/x-python",
   "name": "python",
   "nbconvert_exporter": "python",
   "pygments_lexer": "ipython3",
   "version": "3.8.5"
  },
  "orig_nbformat": 2,
  "kernelspec": {
   "name": "python3",
   "display_name": "Python 3",
   "language": "python"
  }
 },
 "nbformat": 4,
 "nbformat_minor": 2,
 "cells": [
  {
   "cell_type": "code",
   "execution_count": 1,
   "metadata": {},
   "outputs": [],
   "source": [
    "import requests\n",
    "import pandas as pd\n",
    "import numpy as np\n",
    "from sklearn.preprocessing import OneHotEncoder\n",
    "from time import time"
   ]
  },
  {
   "cell_type": "code",
   "execution_count": 8,
   "metadata": {},
   "outputs": [],
   "source": [
    "base_url = \"https://raw.githubusercontent.com/statsbomb/open-data/master/data/\""
   ]
  },
  {
   "cell_type": "code",
   "execution_count": 16,
   "metadata": {},
   "outputs": [],
   "source": [
    "match_url = base_url + \"matches/{}/{}.json\"\n",
    "event_url = base_url + \"events/{}.json\"\n",
    "comp_url = base_url + \"competitions.json\"\n",
    "lineup_url = base_url + \"lineups/{}.json\"\n",
    "\n",
    "match_id = 7580\n",
    "comp_id = 43\n",
    "season_id = 3"
   ]
  },
  {
   "cell_type": "code",
   "execution_count": 21,
   "metadata": {},
   "outputs": [
    {
     "output_type": "execute_result",
     "data": {
      "text/plain": [
       "<Response [404]>"
      ]
     },
     "metadata": {},
     "execution_count": 21
    }
   ],
   "source": []
  },
  {
   "cell_type": "code",
   "execution_count": 18,
   "metadata": {},
   "outputs": [],
   "source": [
    "fra_arg = requests.get(event_url.format(match_id))\n",
    "#fifawc = requests.get(match_url.format(comp_id,season_id)).json()\n",
    "#lineup = requests.get(lineup_url.format(match_id)).json()\n"
   ]
  },
  {
   "cell_type": "code",
   "execution_count": 19,
   "metadata": {},
   "outputs": [
    {
     "output_type": "execute_result",
     "data": {
      "text/plain": [
       "<Response [404]>"
      ]
     },
     "metadata": {},
     "execution_count": 19
    }
   ],
   "source": [
    "fra_arg"
   ]
  },
  {
   "cell_type": "code",
   "execution_count": 40,
   "metadata": {},
   "outputs": [],
   "source": [
    "class Match:\n",
    "    def __init__(self, events, competition, match_id, lineup):\n",
    "        self.events = events\n",
    "        self.competition = competition\n",
    "        self.match_id = match_id\n",
    "        self.lineup = lineup"
   ]
  },
  {
   "cell_type": "code",
   "execution_count": 16,
   "metadata": {},
   "outputs": [
    {
     "output_type": "execute_result",
     "data": {
      "text/plain": [
       "0.0"
      ]
     },
     "metadata": {},
     "execution_count": 16
    }
   ],
   "source": [
    "start = time()\n",
    "testmatch = Match(fra_arg, fifawc, 7580, lineup)\n",
    "end = time()\n",
    "end - start"
   ]
  },
  {
   "cell_type": "code",
   "execution_count": null,
   "metadata": {},
   "outputs": [],
   "source": []
  },
  {
   "cell_type": "code",
   "execution_count": 31,
   "metadata": {},
   "outputs": [],
   "source": [
    "home_formation = testmatch.events[0]['tactics']['formation']\n",
    "away_formation = testmatch.events[1]['tactics']['formation']"
   ]
  },
  {
   "cell_type": "code",
   "execution_count": 35,
   "metadata": {},
   "outputs": [
    {
     "output_type": "execute_result",
     "data": {
      "text/plain": [
       "[{'player': {'id': 6312, 'name': 'Franco Armani'},\n",
       "  'position': {'id': 1, 'name': 'Goalkeeper'},\n",
       "  'jersey_number': 12},\n",
       " {'player': {'id': 5742, 'name': 'Gabriel Iván Mercado'},\n",
       "  'position': {'id': 2, 'name': 'Right Back'},\n",
       "  'jersey_number': 2},\n",
       " {'player': {'id': 3090, 'name': 'Nicolás Hernán Otamendi'},\n",
       "  'position': {'id': 3, 'name': 'Right Center Back'},\n",
       "  'jersey_number': 17},\n",
       " {'player': {'id': 3602, 'name': 'Faustino Marcos Alberto Rojo'},\n",
       "  'position': {'id': 5, 'name': 'Left Center Back'},\n",
       "  'jersey_number': 16},\n",
       " {'player': {'id': 5507, 'name': 'Nicolás Alejandro Tagliafico'},\n",
       "  'position': {'id': 6, 'name': 'Left Back'},\n",
       "  'jersey_number': 3},\n",
       " {'player': {'id': 5506, 'name': 'Javier Alejandro Mascherano'},\n",
       "  'position': {'id': 10, 'name': 'Center Defensive Midfield'},\n",
       "  'jersey_number': 14},\n",
       " {'player': {'id': 5741, 'name': 'Enzo Nicolás Pérez'},\n",
       "  'position': {'id': 13, 'name': 'Right Center Midfield'},\n",
       "  'jersey_number': 15},\n",
       " {'player': {'id': 5504, 'name': 'Éver Maximiliano David Banega'},\n",
       "  'position': {'id': 15, 'name': 'Left Center Midfield'},\n",
       "  'jersey_number': 7},\n",
       " {'player': {'id': 2995, 'name': 'Ángel Fabián Di María Hernández'},\n",
       "  'position': {'id': 17, 'name': 'Right Wing'},\n",
       "  'jersey_number': 11},\n",
       " {'player': {'id': 5496, 'name': 'Cristian David Pavón'},\n",
       "  'position': {'id': 21, 'name': 'Left Wing'},\n",
       "  'jersey_number': 22},\n",
       " {'player': {'id': 5503, 'name': 'Lionel Andrés Messi Cuccittini'},\n",
       "  'position': {'id': 23, 'name': 'Center Forward'},\n",
       "  'jersey_number': 10}]"
      ]
     },
     "metadata": {},
     "execution_count": 35
    }
   ],
   "source": [
    "testmatch.events[1]['tactics']['lineup']"
   ]
  },
  {
   "cell_type": "code",
   "execution_count": null,
   "metadata": {},
   "outputs": [],
   "source": []
  }
 ]
}