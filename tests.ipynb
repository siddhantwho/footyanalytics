{
 "metadata": {
  "language_info": {
   "codemirror_mode": {
    "name": "ipython",
    "version": 3
   },
   "file_extension": ".py",
   "mimetype": "text/x-python",
   "name": "python",
   "nbconvert_exporter": "python",
   "pygments_lexer": "ipython3",
   "version": "3.8.5-final"
  },
  "orig_nbformat": 2,
  "kernelspec": {
   "name": "python3",
   "display_name": "Python 3",
   "language": "python"
  }
 },
 "nbformat": 4,
 "nbformat_minor": 2,
 "cells": [
  {
   "cell_type": "code",
   "execution_count": 2,
   "metadata": {},
   "outputs": [],
   "source": [
    "import requests\n",
    "import pandas as pd\n",
    "import numpy as np\n",
    "from sklearn.preprocessing import OneHotEncoder"
   ]
  },
  {
   "cell_type": "code",
   "execution_count": 3,
   "metadata": {},
   "outputs": [],
   "source": [
    "base_url = \"https://raw.githubusercontent.com/statsbomb/open-data/master/data/\""
   ]
  },
  {
   "cell_type": "code",
   "execution_count": 4,
   "metadata": {},
   "outputs": [],
   "source": [
    "match_url = base_url + \"matches/{}/{}.json\"\n",
    "event_url = base_url + \"events/{}.json\"\n",
    "comp_url = base_url + \"competitions.json\"\n",
    "lineup_url = base_url + \"lineups/{}.json\""
   ]
  },
  {
   "cell_type": "code",
   "execution_count": 5,
   "metadata": {},
   "outputs": [],
   "source": [
    "allcomps = requests.get(comp_url).json()\n",
    "allcomps_pd = pd.DataFrame(allcomps)"
   ]
  },
  {
   "cell_type": "code",
   "execution_count": 7,
   "metadata": {},
   "outputs": [
    {
     "output_type": "execute_result",
     "data": {
      "text/plain": [
       "   competition_id  season_id country_name  competition_name  \\\n",
       "0              16          4       Europe  Champions League   \n",
       "1              16          1       Europe  Champions League   \n",
       "2              16          2       Europe  Champions League   \n",
       "3              16         27       Europe  Champions League   \n",
       "4              16         26       Europe  Champions League   \n",
       "5              16         25       Europe  Champions League   \n",
       "6              16         24       Europe  Champions League   \n",
       "7              16         23       Europe  Champions League   \n",
       "8              16         22       Europe  Champions League   \n",
       "9              16         21       Europe  Champions League   \n",
       "\n",
       "  competition_gender season_name               match_updated  \\\n",
       "0               male   2018/2019  2020-10-25T12:33:27.855343   \n",
       "1               male   2017/2018  2021-01-23T21:55:30.425330   \n",
       "2               male   2016/2017  2020-08-26T12:33:15.869622   \n",
       "3               male   2015/2016  2020-08-26T12:33:15.869622   \n",
       "4               male   2014/2015  2020-08-26T12:33:15.869622   \n",
       "5               male   2013/2014  2020-08-26T12:33:15.869622   \n",
       "6               male   2012/2013  2020-08-26T12:33:15.869622   \n",
       "7               male   2011/2012  2020-08-26T12:33:15.869622   \n",
       "8               male   2010/2011            2020-07-29T05:00   \n",
       "9               male   2009/2010            2020-07-29T05:00   \n",
       "\n",
       "              match_available  \n",
       "0  2020-10-25T12:33:27.855343  \n",
       "1  2021-01-23T21:55:30.425330  \n",
       "2            2020-07-29T05:00  \n",
       "3            2020-07-29T05:00  \n",
       "4            2020-07-29T05:00  \n",
       "5            2020-07-29T05:00  \n",
       "6            2020-07-29T05:00  \n",
       "7            2020-07-29T05:00  \n",
       "8            2020-07-29T05:00  \n",
       "9            2020-07-29T05:00  "
      ],
      "text/html": "<div>\n<style scoped>\n    .dataframe tbody tr th:only-of-type {\n        vertical-align: middle;\n    }\n\n    .dataframe tbody tr th {\n        vertical-align: top;\n    }\n\n    .dataframe thead th {\n        text-align: right;\n    }\n</style>\n<table border=\"1\" class=\"dataframe\">\n  <thead>\n    <tr style=\"text-align: right;\">\n      <th></th>\n      <th>competition_id</th>\n      <th>season_id</th>\n      <th>country_name</th>\n      <th>competition_name</th>\n      <th>competition_gender</th>\n      <th>season_name</th>\n      <th>match_updated</th>\n      <th>match_available</th>\n    </tr>\n  </thead>\n  <tbody>\n    <tr>\n      <th>0</th>\n      <td>16</td>\n      <td>4</td>\n      <td>Europe</td>\n      <td>Champions League</td>\n      <td>male</td>\n      <td>2018/2019</td>\n      <td>2020-10-25T12:33:27.855343</td>\n      <td>2020-10-25T12:33:27.855343</td>\n    </tr>\n    <tr>\n      <th>1</th>\n      <td>16</td>\n      <td>1</td>\n      <td>Europe</td>\n      <td>Champions League</td>\n      <td>male</td>\n      <td>2017/2018</td>\n      <td>2021-01-23T21:55:30.425330</td>\n      <td>2021-01-23T21:55:30.425330</td>\n    </tr>\n    <tr>\n      <th>2</th>\n      <td>16</td>\n      <td>2</td>\n      <td>Europe</td>\n      <td>Champions League</td>\n      <td>male</td>\n      <td>2016/2017</td>\n      <td>2020-08-26T12:33:15.869622</td>\n      <td>2020-07-29T05:00</td>\n    </tr>\n    <tr>\n      <th>3</th>\n      <td>16</td>\n      <td>27</td>\n      <td>Europe</td>\n      <td>Champions League</td>\n      <td>male</td>\n      <td>2015/2016</td>\n      <td>2020-08-26T12:33:15.869622</td>\n      <td>2020-07-29T05:00</td>\n    </tr>\n    <tr>\n      <th>4</th>\n      <td>16</td>\n      <td>26</td>\n      <td>Europe</td>\n      <td>Champions League</td>\n      <td>male</td>\n      <td>2014/2015</td>\n      <td>2020-08-26T12:33:15.869622</td>\n      <td>2020-07-29T05:00</td>\n    </tr>\n    <tr>\n      <th>5</th>\n      <td>16</td>\n      <td>25</td>\n      <td>Europe</td>\n      <td>Champions League</td>\n      <td>male</td>\n      <td>2013/2014</td>\n      <td>2020-08-26T12:33:15.869622</td>\n      <td>2020-07-29T05:00</td>\n    </tr>\n    <tr>\n      <th>6</th>\n      <td>16</td>\n      <td>24</td>\n      <td>Europe</td>\n      <td>Champions League</td>\n      <td>male</td>\n      <td>2012/2013</td>\n      <td>2020-08-26T12:33:15.869622</td>\n      <td>2020-07-29T05:00</td>\n    </tr>\n    <tr>\n      <th>7</th>\n      <td>16</td>\n      <td>23</td>\n      <td>Europe</td>\n      <td>Champions League</td>\n      <td>male</td>\n      <td>2011/2012</td>\n      <td>2020-08-26T12:33:15.869622</td>\n      <td>2020-07-29T05:00</td>\n    </tr>\n    <tr>\n      <th>8</th>\n      <td>16</td>\n      <td>22</td>\n      <td>Europe</td>\n      <td>Champions League</td>\n      <td>male</td>\n      <td>2010/2011</td>\n      <td>2020-07-29T05:00</td>\n      <td>2020-07-29T05:00</td>\n    </tr>\n    <tr>\n      <th>9</th>\n      <td>16</td>\n      <td>21</td>\n      <td>Europe</td>\n      <td>Champions League</td>\n      <td>male</td>\n      <td>2009/2010</td>\n      <td>2020-07-29T05:00</td>\n      <td>2020-07-29T05:00</td>\n    </tr>\n  </tbody>\n</table>\n</div>"
     },
     "metadata": {},
     "execution_count": 7
    }
   ],
   "source": [
    "allcomps_pd[0:10]"
   ]
  },
  {
   "cell_type": "code",
   "execution_count": null,
   "metadata": {},
   "outputs": [],
   "source": []
  }
 ]
}