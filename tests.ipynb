{
 "metadata": {
  "language_info": {
   "codemirror_mode": {
    "name": "ipython",
    "version": 3
   },
   "file_extension": ".py",
   "mimetype": "text/x-python",
   "name": "python",
   "nbconvert_exporter": "python",
   "pygments_lexer": "ipython3",
   "version": "3.8.5"
  },
  "orig_nbformat": 2,
  "kernelspec": {
   "name": "python3",
   "display_name": "Python 3",
   "language": "python"
  }
 },
 "nbformat": 4,
 "nbformat_minor": 2,
 "cells": [
  {
   "cell_type": "code",
   "execution_count": 1,
   "metadata": {},
   "outputs": [],
   "source": [
    "import requests\n",
    "import pandas as pd\n",
    "import numpy as np\n",
    "from sklearn.preprocessing import OneHotEncoder\n",
    "from time import time"
   ]
  },
  {
   "cell_type": "code",
   "execution_count": 2,
   "metadata": {},
   "outputs": [],
   "source": [
    "base_url = \"https://raw.githubusercontent.com/statsbomb/open-data/master/data/\""
   ]
  },
  {
   "cell_type": "code",
   "execution_count": 36,
   "metadata": {},
   "outputs": [],
   "source": [
    "match_url = base_url + \"matches/{}/{}.json\"\n",
    "event_url = base_url + \"events/{}.json\"\n",
    "comp_url = base_url + \"competitions.json\"\n",
    "lineup_url = base_url + \"lineups/{}.json\"\n",
    "\n",
    "match_id = 7580\n",
    "match_id = 7586\n",
    "comp_id = 43\n",
    "season_id = 3"
   ]
  },
  {
   "cell_type": "code",
   "execution_count": 37,
   "metadata": {},
   "outputs": [],
   "source": [
    "fra_arg = requests.get(event_url.format(match_id)).json()\n",
    "fifawc = requests.get(match_url.format(comp_id,season_id)).json()\n",
    "lineup = requests.get(lineup_url.format(match_id)).json()\n"
   ]
  },
  {
   "cell_type": "code",
   "execution_count": 38,
   "metadata": {},
   "outputs": [],
   "source": [
    "class Match:\n",
    "    def __init__(self, events, competition, match_id, lineup):\n",
    "        self.events = events\n",
    "        self.competition = competition\n",
    "        self.match_id = match_id\n",
    "        self.lineup = lineup"
   ]
  },
  {
   "cell_type": "code",
   "execution_count": 39,
   "metadata": {},
   "outputs": [
    {
     "output_type": "execute_result",
     "data": {
      "text/plain": [
       "0.013179779052734375"
      ]
     },
     "metadata": {},
     "execution_count": 39
    }
   ],
   "source": [
    "start = time()\n",
    "testmatch = Match(fra_arg, fifawc, 7580, lineup)\n",
    "end = time()\n",
    "end - start"
   ]
  },
  {
   "cell_type": "code",
   "execution_count": null,
   "metadata": {},
   "outputs": [],
   "source": []
  },
  {
   "cell_type": "code",
   "execution_count": 40,
   "metadata": {},
   "outputs": [],
   "source": [
    "home_formation = testmatch.events[0]['tactics']['formation']\n",
    "away_formation = testmatch.events[1]['tactics']['formation']"
   ]
  },
  {
   "cell_type": "code",
   "execution_count": 41,
   "metadata": {},
   "outputs": [
    {
     "output_type": "execute_result",
     "data": {
      "text/plain": [
       "[{'player': {'id': 5622, 'name': 'Robin Olsen'},\n",
       "  'position': {'id': 1, 'name': 'Goalkeeper'},\n",
       "  'jersey_number': 1},\n",
       " {'player': {'id': 5612, 'name': 'Mikael Lustig'},\n",
       "  'position': {'id': 2, 'name': 'Right Back'},\n",
       "  'jersey_number': 2},\n",
       " {'player': {'id': 3702, 'name': 'Victor Nilsson Lindelöf'},\n",
       "  'position': {'id': 3, 'name': 'Right Center Back'},\n",
       "  'jersey_number': 3},\n",
       " {'player': {'id': 5607, 'name': 'Andreas Granqvist'},\n",
       "  'position': {'id': 5, 'name': 'Left Center Back'},\n",
       "  'jersey_number': 4},\n",
       " {'player': {'id': 5621, 'name': 'Ludwig Augustinsson'},\n",
       "  'position': {'id': 6, 'name': 'Left Back'},\n",
       "  'jersey_number': 6},\n",
       " {'player': {'id': 5611, 'name': 'Gustav Svensson'},\n",
       "  'position': {'id': 13, 'name': 'Right Center Midfield'},\n",
       "  'jersey_number': 13},\n",
       " {'player': {'id': 5624, 'name': 'Albin Ekdal'},\n",
       "  'position': {'id': 15, 'name': 'Left Center Midfield'},\n",
       "  'jersey_number': 8},\n",
       " {'player': {'id': 5625, 'name': 'Emil Forsberg'},\n",
       "  'position': {'id': 16, 'name': 'Left Midfield'},\n",
       "  'jersey_number': 10},\n",
       " {'player': {'id': 5613, 'name': 'Viktor Claesson'},\n",
       "  'position': {'id': 17, 'name': 'Right Wing'},\n",
       "  'jersey_number': 17},\n",
       " {'player': {'id': 11098, 'name': 'Marcus Berg'},\n",
       "  'position': {'id': 22, 'name': 'Right Center Forward'},\n",
       "  'jersey_number': 9},\n",
       " {'player': {'id': 4417, 'name': 'Ola Toivonen'},\n",
       "  'position': {'id': 24, 'name': 'Left Center Forward'},\n",
       "  'jersey_number': 20}]"
      ]
     },
     "metadata": {},
     "execution_count": 41
    }
   ],
   "source": [
    "testmatch.events[0]['tactics']['lineup']"
   ]
  },
  {
   "cell_type": "code",
   "execution_count": null,
   "metadata": {},
   "outputs": [],
   "source": []
  }
 ]
}