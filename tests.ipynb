{
 "metadata": {
  "language_info": {
   "codemirror_mode": {
    "name": "ipython",
    "version": 3
   },
   "file_extension": ".py",
   "mimetype": "text/x-python",
   "name": "python",
   "nbconvert_exporter": "python",
   "pygments_lexer": "ipython3",
   "version": "3.8.5-final"
  },
  "orig_nbformat": 2,
  "kernelspec": {
   "name": "python3",
   "display_name": "Python 3",
   "language": "python"
  }
 },
 "nbformat": 4,
 "nbformat_minor": 2,
 "cells": [
  {
   "cell_type": "code",
   "execution_count": 8,
   "metadata": {},
   "outputs": [],
   "source": [
    "import requests\n",
    "import pandas as pd\n",
    "import numpy as np\n",
    "\n",
    "from time import time\n",
    "  \n",
    "import matplotlib.pyplot as plt\n",
    "import numpy as np\n",
    "\n",
    "from pitch import Pitch\n",
    "from match import Match"
   ]
  },
  {
   "cell_type": "code",
   "execution_count": 9,
   "metadata": {},
   "outputs": [],
   "source": [
    "base_url = \"https://raw.githubusercontent.com/statsbomb/open-data/master/data/\""
   ]
  },
  {
   "cell_type": "code",
   "execution_count": 10,
   "metadata": {},
   "outputs": [],
   "source": [
    "match_url = base_url + \"matches/{}/{}.json\"\n",
    "event_url = base_url + \"events/{}.json\"\n",
    "comp_url = base_url + \"competitions.json\"\n",
    "lineup_url = base_url + \"lineups/{}.json\"\n",
    "\n",
    "match_id = 8650\n",
    "#match_id = 7586\n",
    "comp_id = 43\n",
    "season_id = 3"
   ]
  },
  {
   "cell_type": "code",
   "execution_count": 11,
   "metadata": {},
   "outputs": [],
   "source": [
    "bel_bra = requests.get(event_url.format(match_id)).json()\n",
    "fifawc = requests.get(match_url.format(comp_id,season_id)).json()\n",
    "lineup = requests.get(lineup_url.format(match_id)).json()\n"
   ]
  },
  {
   "cell_type": "code",
   "execution_count": 12,
   "metadata": {},
   "outputs": [],
   "source": [
    "from match import Match\n",
    "testmatch = Match(bel_bra, fifawc, match_id, lineup)"
   ]
  },
  {
   "cell_type": "code",
   "execution_count": 13,
   "metadata": {},
   "outputs": [],
   "source": [
    "home_formation = testmatch.events[0]['tactics']['formation']\n",
    "away_formation = testmatch.events[1]['tactics']['formation']"
   ]
  },
  {
   "cell_type": "code",
   "execution_count": 14,
   "metadata": {},
   "outputs": [],
   "source": [
    "from pitch import Pitch"
   ]
  },
  {
   "cell_type": "code",
   "execution_count": 15,
   "metadata": {},
   "outputs": [],
   "source": [
    "up = testmatch.events[0]['tactics']['lineup']\n",
    "lineup_list = []\n",
    "for player in up:\n",
    "    lineup_list.append([player['player']['name'], player['position']['name'],player['jersey_number']])"
   ]
  },
  {
   "cell_type": "code",
   "execution_count": 16,
   "metadata": {},
   "outputs": [],
   "source": [
    "for i in testmatch.competition:\n",
    "    if i['match_id'] == testmatch.match_id:\n",
    "        match_in_comp = i"
   ]
  },
  {
   "cell_type": "code",
   "execution_count": 17,
   "metadata": {},
   "outputs": [],
   "source": [
    "home_players = [[x['player_id'], x['player_name']] for x in testmatch.lineup[0]['lineup']]"
   ]
  },
  {
   "cell_type": "code",
   "execution_count": 18,
   "metadata": {},
   "outputs": [
    {
     "output_type": "execute_result",
     "data": {
      "text/plain": [
       "[[2954, 'Youri Tielemans'],\n",
       " [3077, 'Jan Vertonghen'],\n",
       " [3089, 'Kevin De Bruyne'],\n",
       " [3101, 'Vincent Kompany'],\n",
       " [3176, 'Thomas Meunier'],\n",
       " [3289, 'Romelu Lukaku Menama'],\n",
       " [3296, 'Marouane Fellaini-Bakkioui'],\n",
       " [3509, 'Thibaut Courtois'],\n",
       " [3621, 'Eden Hazard'],\n",
       " [4831, 'Nacer Chadli'],\n",
       " [5642, 'Axel Witsel'],\n",
       " [6332, 'Thomas Vermaelen'],\n",
       " [20005, 'Toby Alderweireld']]"
      ]
     },
     "metadata": {},
     "execution_count": 18
    }
   ],
   "source": [
    "home_players"
   ]
  },
  {
   "cell_type": "code",
   "execution_count": 35,
   "metadata": {},
   "outputs": [
    {
     "output_type": "execute_result",
     "data": {
      "text/plain": [
       "{'id': 3295, 'name': 'Thiago Emiliano da Silva'}"
      ]
     },
     "metadata": {},
     "execution_count": 35
    }
   ],
   "source": [
    "testmatch.events[22]['player']"
   ]
  }
 ]
}