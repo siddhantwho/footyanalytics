{
 "metadata": {
  "language_info": {
   "codemirror_mode": {
    "name": "ipython",
    "version": 3
   },
   "file_extension": ".py",
   "mimetype": "text/x-python",
   "name": "python",
   "nbconvert_exporter": "python",
   "pygments_lexer": "ipython3",
   "version": "3.8.5"
  },
  "orig_nbformat": 2,
  "kernelspec": {
   "name": "python3",
   "display_name": "Python 3",
   "language": "python"
  }
 },
 "nbformat": 4,
 "nbformat_minor": 2,
 "cells": [
  {
   "cell_type": "code",
   "execution_count": 4,
   "metadata": {},
   "outputs": [],
   "source": [
    "import requests\n",
    "import pandas as pd\n",
    "import numpy as np\n",
    "from sklearn.preprocessing import OneHotEncoder\n",
    "from time import time\n",
    "\n",
    "  \n",
    "import matplotlib.pyplot as plt\n",
    "import numpy as np\n",
    "import seaborn as sns\n",
    "from matplotlib.patches import Arc, Circle, ConnectionPatch, Rectangle"
   ]
  },
  {
   "cell_type": "code",
   "execution_count": 5,
   "metadata": {},
   "outputs": [],
   "source": [
    "base_url = \"https://raw.githubusercontent.com/statsbomb/open-data/master/data/\""
   ]
  },
  {
   "cell_type": "code",
   "execution_count": 6,
   "metadata": {},
   "outputs": [],
   "source": [
    "match_url = base_url + \"matches/{}/{}.json\"\n",
    "event_url = base_url + \"events/{}.json\"\n",
    "comp_url = base_url + \"competitions.json\"\n",
    "lineup_url = base_url + \"lineups/{}.json\"\n",
    "\n",
    "match_id = 7580\n",
    "match_id = 7586\n",
    "comp_id = 43\n",
    "season_id = 3"
   ]
  },
  {
   "cell_type": "code",
   "execution_count": 7,
   "metadata": {},
   "outputs": [],
   "source": [
    "fra_arg = requests.get(event_url.format(match_id)).json()\n",
    "fifawc = requests.get(match_url.format(comp_id,season_id)).json()\n",
    "lineup = requests.get(lineup_url.format(match_id)).json()\n"
   ]
  },
  {
   "cell_type": "code",
   "execution_count": 8,
   "metadata": {},
   "outputs": [],
   "source": [
    "class Match:\n",
    "    def __init__(self, events, competition, match_id, lineup):\n",
    "        self.events = events\n",
    "        self.competition = competition\n",
    "        self.match_id = match_id\n",
    "        self.lineup = lineup"
   ]
  },
  {
   "cell_type": "code",
   "execution_count": 9,
   "metadata": {},
   "outputs": [
    {
     "output_type": "execute_result",
     "data": {
      "text/plain": [
       "0.0"
      ]
     },
     "metadata": {},
     "execution_count": 9
    }
   ],
   "source": [
    "start = time()\n",
    "testmatch = Match(fra_arg, fifawc, 7580, lineup)\n",
    "end = time()\n",
    "end - start"
   ]
  },
  {
   "cell_type": "code",
   "execution_count": null,
   "metadata": {},
   "outputs": [],
   "source": []
  },
  {
   "cell_type": "code",
   "execution_count": 10,
   "metadata": {},
   "outputs": [],
   "source": [
    "home_formation = testmatch.events[0]['tactics']['formation']\n",
    "away_formation = testmatch.events[1]['tactics']['formation']"
   ]
  },
  {
   "cell_type": "code",
   "execution_count": 11,
   "metadata": {},
   "outputs": [],
   "source": [
    "#testmatch.events[0]['tactics']['lineup']"
   ]
  },
  {
   "cell_type": "code",
   "execution_count": 73,
   "metadata": {},
   "outputs": [],
   "source": [
    "_width = 80\n",
    "_length  = 120\n",
    "def build_pitch(traditional=True):\n",
    "        \"\"\"\n",
    "        *this is an internal non-public method*\n",
    "        build plt pitch figure \n",
    "        Parameters\n",
    "        ----------\n",
    "        fig_type : pitch type. Either compelete, right-half or left-half.\n",
    "        Returns\n",
    "        -------\n",
    "        List of matplotlib patches which builds up the figure.\n",
    "        \"\"\"\n",
    "        if traditional:\n",
    "            pitch_color = 'green'\n",
    "            line_color = 'white'\n",
    "        else:\n",
    "            pitch_color = False\n",
    "            line_color = 'black'\n",
    "\n",
    "        return [\n",
    "                Rectangle((0, 0), width=_length, height=_width, fc = 'green',\n",
    "                            fill=True, color='grey'),  # pitch\n",
    "                Rectangle([0, 22.3], width=14.6, height=35.3,\n",
    "                            fill=False),  # left penalty area\n",
    "                Rectangle([105.4, 22.3], width=14.6, height=35.3,\n",
    "                            fill=False),  # right penalty area\n",
    "                ConnectionPatch([60, 0], [60, 80], \"data\", \"data\"),\n",
    "                Rectangle([0, 32], width=4.9, height=16, fill=False),\n",
    "                Rectangle([115.1, 32], width=4.9, height=16, fill=False),\n",
    "                plt.Circle((60, 40), 9.1, color=\"black\", fill=False),\n",
    "                plt.Circle((60, 40), 0.33, color=\"black\"),\n",
    "                plt.Circle((9.7, 40), 0.33, color=\"black\"),\n",
    "                plt.Circle((110.3, 40), 0.33, color=\"black\"),\n",
    "                Arc((9.7, 40), height=16.2, width=16.2, angle=0,\n",
    "                    theta1=310, theta2=50, color=\"black\"),\n",
    "                Arc((110.3, 40), height=16.2, width=16.2, angle=0,\n",
    "                    theta1=130, theta2=230, color=\"black\")\n",
    "        ]\n",
    "\n",
    "\n"
   ]
  },
  {
   "cell_type": "code",
   "execution_count": 74,
   "metadata": {},
   "outputs": [],
   "source": [
    "shapes = build_pitch()"
   ]
  },
  {
   "cell_type": "code",
   "execution_count": 75,
   "metadata": {},
   "outputs": [
    {
     "output_type": "display_data",
     "data": {
      "text/plain": "<Figure size 864x576 with 1 Axes>",
      "image/svg+xml": "<?xml version=\"1.0\" encoding=\"utf-8\" standalone=\"no\"?>\r\n<!DOCTYPE svg PUBLIC \"-//W3C//DTD SVG 1.1//EN\"\r\n  \"http://www.w3.org/Graphics/SVG/1.1/DTD/svg11.dtd\">\r\n<!-- Created with matplotlib (https://matplotlib.org/) -->\r\n<svg height=\"449.28pt\" version=\"1.1\" viewBox=\"0 0 684 449.28\" width=\"684pt\" xmlns=\"http://www.w3.org/2000/svg\" xmlns:xlink=\"http://www.w3.org/1999/xlink\">\r\n <metadata>\r\n  <rdf:RDF xmlns:cc=\"http://creativecommons.org/ns#\" xmlns:dc=\"http://purl.org/dc/elements/1.1/\" xmlns:rdf=\"http://www.w3.org/1999/02/22-rdf-syntax-ns#\">\r\n   <cc:Work>\r\n    <dc:type rdf:resource=\"http://purl.org/dc/dcmitype/StillImage\"/>\r\n    <dc:date>2021-02-19T13:51:42.734777</dc:date>\r\n    <dc:format>image/svg+xml</dc:format>\r\n    <dc:creator>\r\n     <cc:Agent>\r\n      <dc:title>Matplotlib v3.3.2, https://matplotlib.org/</dc:title>\r\n     </cc:Agent>\r\n    </dc:creator>\r\n   </cc:Work>\r\n  </rdf:RDF>\r\n </metadata>\r\n <defs>\r\n  <style type=\"text/css\">*{stroke-linecap:butt;stroke-linejoin:round;}</style>\r\n </defs>\r\n <g id=\"figure_1\">\r\n  <g id=\"patch_1\">\r\n   <path d=\"M 0 449.28 \r\nL 684 449.28 \r\nL 684 0 \r\nL 0 0 \r\nz\r\n\" style=\"fill:none;\"/>\r\n  </g>\r\n  <g id=\"axes_1\">\r\n   <g id=\"patch_2\">\r\n    <path clip-path=\"url(#pad8f7efc22)\" d=\"M 18 431.725714 \r\nL 666 431.725714 \r\nL 666 17.554286 \r\nL 18 17.554286 \r\nz\r\n\" style=\"fill:#008000;stroke:#808080;stroke-linejoin:miter;\"/>\r\n   </g>\r\n   <g id=\"patch_3\">\r\n    <path clip-path=\"url(#pad8f7efc22)\" d=\"M 18 316.275429 \r\nL 96.84 316.275429 \r\nL 96.84 133.522286 \r\nL 18 133.522286 \r\nz\r\n\" style=\"fill:none;stroke:#000000;stroke-linejoin:miter;\"/>\r\n   </g>\r\n   <g id=\"patch_4\">\r\n    <path clip-path=\"url(#pad8f7efc22)\" d=\"M 587.16 316.275429 \r\nL 666 316.275429 \r\nL 666 133.522286 \r\nL 587.16 133.522286 \r\nz\r\n\" style=\"fill:none;stroke:#000000;stroke-linejoin:miter;\"/>\r\n   </g>\r\n   <g id=\"patch_5\">\r\n    <path d=\"M 342 431.725714 \r\nQ 342 224.64 342 17.554286 \r\n\" style=\"fill:none;stroke:#000000;stroke-linecap:round;\"/>\r\n   </g>\r\n   <g id=\"patch_6\">\r\n    <path clip-path=\"url(#pad8f7efc22)\" d=\"M 18 266.057143 \r\nL 44.46 266.057143 \r\nL 44.46 183.222857 \r\nL 18 183.222857 \r\nz\r\n\" style=\"fill:none;stroke:#000000;stroke-linejoin:miter;\"/>\r\n   </g>\r\n   <g id=\"patch_7\">\r\n    <path clip-path=\"url(#pad8f7efc22)\" d=\"M 639.54 266.057143 \r\nL 666 266.057143 \r\nL 666 183.222857 \r\nL 639.54 183.222857 \r\nz\r\n\" style=\"fill:none;stroke:#000000;stroke-linejoin:miter;\"/>\r\n   </g>\r\n   <g id=\"patch_8\">\r\n    <path clip-path=\"url(#pad8f7efc22)\" d=\"M 342 271.752 \r\nC 355.03208 271.752 367.532155 266.787982 376.747227 257.953215 \r\nC 385.9623 249.118447 391.14 237.134248 391.14 224.64 \r\nC 391.14 212.145752 385.9623 200.161553 376.747227 191.326785 \r\nC 367.532155 182.492018 355.03208 177.528 342 177.528 \r\nC 328.96792 177.528 316.467845 182.492018 307.252773 191.326785 \r\nC 298.0377 200.161553 292.86 212.145752 292.86 224.64 \r\nC 292.86 237.134248 298.0377 249.118447 307.252773 257.953215 \r\nC 316.467845 266.787982 328.96792 271.752 342 271.752 \r\nz\r\n\" style=\"fill:none;stroke:#000000;stroke-linejoin:miter;\"/>\r\n   </g>\r\n   <g id=\"patch_9\">\r\n    <path clip-path=\"url(#pad8f7efc22)\" d=\"M 342 226.348457 \r\nC 342.472592 226.348457 342.925891 226.168443 343.260064 225.848062 \r\nC 343.594237 225.52768 343.782 225.093088 343.782 224.64 \r\nC 343.782 224.186912 343.594237 223.75232 343.260064 223.431938 \r\nC 342.925891 223.111557 342.472592 222.931543 342 222.931543 \r\nC 341.527408 222.931543 341.074109 223.111557 340.739936 223.431938 \r\nC 340.405763 223.75232 340.218 224.186912 340.218 224.64 \r\nC 340.218 225.093088 340.405763 225.52768 340.739936 225.848062 \r\nC 341.074109 226.168443 341.527408 226.348457 342 226.348457 \r\nz\r\n\" style=\"stroke:#000000;stroke-linejoin:miter;\"/>\r\n   </g>\r\n   <g id=\"patch_10\">\r\n    <path clip-path=\"url(#pad8f7efc22)\" d=\"M 70.38 226.348457 \r\nC 70.852592 226.348457 71.305891 226.168443 71.640064 225.848062 \r\nC 71.974237 225.52768 72.162 225.093088 72.162 224.64 \r\nC 72.162 224.186912 71.974237 223.75232 71.640064 223.431938 \r\nC 71.305891 223.111557 70.852592 222.931543 70.38 222.931543 \r\nC 69.907408 222.931543 69.454109 223.111557 69.119936 223.431938 \r\nC 68.785763 223.75232 68.598 224.186912 68.598 224.64 \r\nC 68.598 225.093088 68.785763 225.52768 69.119936 225.848062 \r\nC 69.454109 226.168443 69.907408 226.348457 70.38 226.348457 \r\nz\r\n\" style=\"stroke:#000000;stroke-linejoin:miter;\"/>\r\n   </g>\r\n   <g id=\"patch_11\">\r\n    <path clip-path=\"url(#pad8f7efc22)\" d=\"M 613.62 226.348457 \r\nC 614.092592 226.348457 614.545891 226.168443 614.880064 225.848062 \r\nC 615.214237 225.52768 615.402 225.093088 615.402 224.64 \r\nC 615.402 224.186912 615.214237 223.75232 614.880064 223.431938 \r\nC 614.545891 223.111557 614.092592 222.931543 613.62 222.931543 \r\nC 613.147408 222.931543 612.694109 223.111557 612.359936 223.431938 \r\nC 612.025763 223.75232 611.838 224.186912 611.838 224.64 \r\nC 611.838 225.093088 612.025763 225.52768 612.359936 225.848062 \r\nC 612.694109 226.168443 613.147408 226.348457 613.62 226.348457 \r\nz\r\n\" style=\"stroke:#000000;stroke-linejoin:miter;\"/>\r\n   </g>\r\n   <g id=\"patch_12\">\r\n    <path clip-path=\"url(#pad8f7efc22)\" d=\"M 98.49553 256.763964 \r\nC 103.388141 252.828005 107.322703 247.912 110.021903 242.362436 \r\nC 112.721102 236.812873 114.12 230.763266 114.12 224.64 \r\nC 114.12 218.516734 112.721102 212.467127 110.021903 206.917564 \r\nC 107.322703 201.368 103.388141 196.451995 98.49553 192.516036 \r\n\" style=\"fill:none;stroke:#000000;stroke-linejoin:miter;\"/>\r\n   </g>\r\n   <g id=\"patch_13\">\r\n    <path clip-path=\"url(#pad8f7efc22)\" d=\"M 585.50447 192.516036 \r\nC 580.611859 196.451995 576.677297 201.368 573.978097 206.917564 \r\nC 571.278898 212.467127 569.88 218.516734 569.88 224.64 \r\nC 569.88 230.763266 571.278898 236.812873 573.978097 242.362436 \r\nC 576.677297 247.912 580.611859 252.828005 585.50447 256.763964 \r\n\" style=\"fill:none;stroke:#000000;stroke-linejoin:miter;\"/>\r\n   </g>\r\n  </g>\r\n </g>\r\n <defs>\r\n  <clipPath id=\"pad8f7efc22\">\r\n   <rect height=\"434.88\" width=\"669.6\" x=\"7.2\" y=\"7.2\"/>\r\n  </clipPath>\r\n </defs>\r\n</svg>\r\n",
      "image/png": "[encoded data removed]"
     },
     "metadata": {
      "needs_background": "light"
     }
    }
   ],
   "source": [
    "fig, axes = plt.subplots(figsize = (12,8))\n",
    "axes.axis('off')  # this hides the x and y ticks\n",
    "plt.ylim(-2, 82)\n",
    "plt.xlim(-2, 122)\n",
    "for i in shapes:\n",
    "    axes.add_artist(i)\n",
    "plt.show()"
   ]
  },
  {
   "cell_type": "code",
   "execution_count": null,
   "metadata": {},
   "outputs": [],
   "source": []
  }
 ]
}