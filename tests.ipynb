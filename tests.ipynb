{
 "metadata": {
  "language_info": {
   "codemirror_mode": {
    "name": "ipython",
    "version": 3
   },
   "file_extension": ".py",
   "mimetype": "text/x-python",
   "name": "python",
   "nbconvert_exporter": "python",
   "pygments_lexer": "ipython3",
   "version": "3.8.5-final"
  },
  "orig_nbformat": 2,
  "kernelspec": {
   "name": "python3",
   "display_name": "Python 3",
   "language": "python"
  }
 },
 "nbformat": 4,
 "nbformat_minor": 2,
 "cells": [
  {
   "cell_type": "code",
   "execution_count": 3,
   "metadata": {},
   "outputs": [],
   "source": [
    "import requests\n",
    "import pandas as pd\n",
    "import numpy as np\n",
    "\n",
    "from time import time\n",
    "  \n",
    "import matplotlib.pyplot as plt\n",
    "import numpy as np\n",
    "from matplotlib.patches import Rectangle\n",
    "\n",
    "from pitch import Pitch\n",
    "from match import Match"
   ]
  },
  {
   "cell_type": "code",
   "execution_count": 9,
   "metadata": {},
   "outputs": [],
   "source": [
    "base_url = \"https://raw.githubusercontent.com/statsbomb/open-data/master/data/\""
   ]
  },
  {
   "cell_type": "code",
   "execution_count": 10,
   "metadata": {},
   "outputs": [],
   "source": [
    "match_url = base_url + \"matches/{}/{}.json\"\n",
    "event_url = base_url + \"events/{}.json\"\n",
    "comp_url = base_url + \"competitions.json\"\n",
    "lineup_url = base_url + \"lineups/{}.json\"\n",
    "\n",
    "match_id = 8650\n",
    "#match_id = 7586\n",
    "comp_id = 43\n",
    "season_id = 3"
   ]
  },
  {
   "cell_type": "code",
   "execution_count": 11,
   "metadata": {},
   "outputs": [],
   "source": [
    "bel_bra = requests.get(event_url.format(match_id)).json()\n",
    "fifawc = requests.get(match_url.format(comp_id,season_id)).json()\n",
    "lineup = requests.get(lineup_url.format(match_id)).json()\n"
   ]
  },
  {
   "cell_type": "code",
   "execution_count": 12,
   "metadata": {},
   "outputs": [],
   "source": [
    "from match import Match\n",
    "testmatch = Match(bel_bra, fifawc, match_id, lineup)"
   ]
  },
  {
   "cell_type": "code",
   "execution_count": 13,
   "metadata": {},
   "outputs": [],
   "source": [
    "home_formation = testmatch.events[0]['tactics']['formation']\n",
    "away_formation = testmatch.events[1]['tactics']['formation']"
   ]
  },
  {
   "cell_type": "code",
   "execution_count": 14,
   "metadata": {},
   "outputs": [],
   "source": [
    "from pitch import Pitch"
   ]
  },
  {
   "cell_type": "code",
   "execution_count": 15,
   "metadata": {},
   "outputs": [],
   "source": [
    "up = testmatch.events[0]['tactics']['lineup']\n",
    "lineup_list = []\n",
    "for player in up:\n",
    "    lineup_list.append([player['player']['name'], player['position']['name'],player['jersey_number']])"
   ]
  },
  {
   "cell_type": "code",
   "execution_count": 16,
   "metadata": {},
   "outputs": [],
   "source": [
    "for i in testmatch.competition:\n",
    "    if i['match_id'] == testmatch.match_id:\n",
    "        match_in_comp = i"
   ]
  },
  {
   "cell_type": "code",
   "execution_count": 17,
   "metadata": {},
   "outputs": [],
   "source": [
    "home_players = [[x['player_id'], x['player_name']] for x in testmatch.lineup[0]['lineup']]"
   ]
  },
  {
   "cell_type": "code",
   "execution_count": 18,
   "metadata": {},
   "outputs": [
    {
     "output_type": "execute_result",
     "data": {
      "text/plain": [
       "[[2954, 'Youri Tielemans'],\n",
       " [3077, 'Jan Vertonghen'],\n",
       " [3089, 'Kevin De Bruyne'],\n",
       " [3101, 'Vincent Kompany'],\n",
       " [3176, 'Thomas Meunier'],\n",
       " [3289, 'Romelu Lukaku Menama'],\n",
       " [3296, 'Marouane Fellaini-Bakkioui'],\n",
       " [3509, 'Thibaut Courtois'],\n",
       " [3621, 'Eden Hazard'],\n",
       " [4831, 'Nacer Chadli'],\n",
       " [5642, 'Axel Witsel'],\n",
       " [6332, 'Thomas Vermaelen'],\n",
       " [20005, 'Toby Alderweireld']]"
      ]
     },
     "metadata": {},
     "execution_count": 18
    }
   ],
   "source": [
    "home_players"
   ]
  },
  {
   "cell_type": "code",
   "execution_count": null,
   "metadata": {},
   "outputs": [],
   "source": []
  },
  {
   "cell_type": "code",
   "execution_count": null,
   "metadata": {},
   "outputs": [],
   "source": []
  },
  {
   "cell_type": "code",
   "execution_count": 27,
   "metadata": {},
   "outputs": [],
   "source": [
    "#divisible by 7 and 11 range 2000 to 5000"
   ]
  },
  {
   "cell_type": "code",
   "execution_count": 28,
   "metadata": {},
   "outputs": [],
   "source": [
    "answers = []\n",
    "for i in range(2000,5001):\n",
    "    if i%7==0 and i%11==0:\n",
    "        answers.append(i)"
   ]
  },
  {
   "cell_type": "code",
   "execution_count": 30,
   "metadata": {},
   "outputs": [],
   "source": [
    "answers2 = [x for x in range(2000,5001) if x%7==0 and x%11==0]"
   ]
  },
  {
   "cell_type": "code",
   "execution_count": 33,
   "metadata": {},
   "outputs": [],
   "source": [
    "all_nums = list(range(2000,5001))\n",
    "\n",
    "answers3 = list(filter(lambda x: x%7==0 and x%11==0, all_nums))"
   ]
  },
  {
   "cell_type": "code",
   "execution_count": 35,
   "metadata": {},
   "outputs": [],
   "source": [
    "newdict = {}"
   ]
  },
  {
   "cell_type": "code",
   "execution_count": 37,
   "metadata": {},
   "outputs": [],
   "source": [
    "name = 'Siddhant'\n",
    "number = '123'"
   ]
  },
  {
   "cell_type": "code",
   "execution_count": 38,
   "metadata": {},
   "outputs": [],
   "source": [
    "newdict[name] = number"
   ]
  },
  {
   "cell_type": "code",
   "execution_count": 39,
   "metadata": {},
   "outputs": [
    {
     "output_type": "execute_result",
     "data": {
      "text/plain": [
       "{'Siddhant': '123'}"
      ]
     },
     "metadata": {},
     "execution_count": 39
    }
   ],
   "source": [
    "newdict"
   ]
  },
  {
   "cell_type": "code",
   "execution_count": 44,
   "metadata": {},
   "outputs": [],
   "source": [
    "def take_input(n):\n",
    "    newdict1 = {}\n",
    "    for i in range(n):\n",
    "        x = input('Name, number')\n",
    "        x_list = x.split(' ')\n",
    "        newdict1[x_list[0]] = x_list[1]\n",
    "    return newdict1"
   ]
  },
  {
   "cell_type": "code",
   "execution_count": 48,
   "metadata": {},
   "outputs": [],
   "source": [
    "test_dict = take_input(3)"
   ]
  },
  {
   "cell_type": "code",
   "execution_count": 47,
   "metadata": {},
   "outputs": [],
   "source": [
    "def check(n, some_dict):\n",
    "    for i in range(n):\n",
    "        x = input('Check name here: ')\n",
    "        if x in some_dict.keys():\n",
    "            print (x, some_dict[x])\n",
    "        else:\n",
    "            print ('It\\'s not in the dictionary')"
   ]
  },
  {
   "cell_type": "code",
   "execution_count": 49,
   "metadata": {},
   "outputs": [
    {
     "output_type": "stream",
     "name": "stdout",
     "text": [
      "Siddhant 1234\n",
      "It's not in the dictionary\n"
     ]
    }
   ],
   "source": [
    "check(2, test_dict)"
   ]
  },
  {
   "cell_type": "code",
   "execution_count": 1,
   "metadata": {},
   "outputs": [],
   "source": [
    "from pitch import Pitch"
   ]
  },
  {
   "cell_type": "code",
   "execution_count": 10,
   "metadata": {},
   "outputs": [
    {
     "output_type": "display_data",
     "data": {
      "text/plain": "<Figure size 1224x576 with 1 Axes>",
      "image/svg+xml": "<?xml version=\"1.0\" encoding=\"utf-8\" standalone=\"no\"?>\r\n<!DOCTYPE svg PUBLIC \"-//W3C//DTD SVG 1.1//EN\"\r\n  \"http://www.w3.org/Graphics/SVG/1.1/DTD/svg11.dtd\">\r\n<!-- Created with matplotlib (https://matplotlib.org/) -->\r\n<svg height=\"449.28pt\" version=\"1.1\" viewBox=\"0 0 963 449.28\" width=\"963pt\" xmlns=\"http://www.w3.org/2000/svg\" xmlns:xlink=\"http://www.w3.org/1999/xlink\">\r\n <metadata>\r\n  <rdf:RDF xmlns:cc=\"http://creativecommons.org/ns#\" xmlns:dc=\"http://purl.org/dc/elements/1.1/\" xmlns:rdf=\"http://www.w3.org/1999/02/22-rdf-syntax-ns#\">\r\n   <cc:Work>\r\n    <dc:type rdf:resource=\"http://purl.org/dc/dcmitype/StillImage\"/>\r\n    <dc:date>2021-03-04T17:20:36.404181</dc:date>\r\n    <dc:format>image/svg+xml</dc:format>\r\n    <dc:creator>\r\n     <cc:Agent>\r\n      <dc:title>Matplotlib v3.3.2, https://matplotlib.org/</dc:title>\r\n     </cc:Agent>\r\n    </dc:creator>\r\n   </cc:Work>\r\n  </rdf:RDF>\r\n </metadata>\r\n <defs>\r\n  <style type=\"text/css\">*{stroke-linecap:butt;stroke-linejoin:round;}</style>\r\n </defs>\r\n <g id=\"figure_1\">\r\n  <g id=\"patch_1\">\r\n   <path d=\"M 0 449.28 \r\nL 963 449.28 \r\nL 963 0 \r\nL 0 0 \r\nz\r\n\" style=\"fill:none;\"/>\r\n  </g>\r\n  <g id=\"axes_1\">\r\n   <g id=\"patch_2\">\r\n    <path clip-path=\"url(#p532b730fb0)\" d=\"M 154.396552 431.725714 \r\nL 808.603448 431.725714 \r\nL 808.603448 17.554286 \r\nL 154.396552 17.554286 \r\nz\r\n\" style=\"fill:#008000;stroke:#000000;stroke-linejoin:miter;\"/>\r\n   </g>\r\n   <g id=\"patch_3\">\r\n    <path clip-path=\"url(#p532b730fb0)\" d=\"M 154.396552 316.275429 \r\nL 233.991724 316.275429 \r\nL 233.991724 133.522286 \r\nL 154.396552 133.522286 \r\nz\r\n\" style=\"fill:none;stroke:#ffffff;stroke-linejoin:miter;\"/>\r\n   </g>\r\n   <g id=\"patch_4\">\r\n    <path clip-path=\"url(#p532b730fb0)\" d=\"M 729.008276 316.275429 \r\nL 808.603448 316.275429 \r\nL 808.603448 133.522286 \r\nL 729.008276 133.522286 \r\nz\r\n\" style=\"fill:none;stroke:#ffffff;stroke-linejoin:miter;\"/>\r\n   </g>\r\n   <g id=\"patch_5\">\r\n    <path d=\"M 481.5 431.725714 \r\nQ 481.5 224.64 481.5 17.554286 \r\n\" style=\"fill:none;stroke:#ffffff;stroke-linecap:round;\"/>\r\n   </g>\r\n   <g id=\"patch_6\">\r\n    <path clip-path=\"url(#p532b730fb0)\" d=\"M 154.396552 266.057143 \r\nL 181.11 266.057143 \r\nL 181.11 183.222857 \r\nL 154.396552 183.222857 \r\nz\r\n\" style=\"fill:none;stroke:#ffffff;stroke-linejoin:miter;\"/>\r\n   </g>\r\n   <g id=\"patch_7\">\r\n    <path clip-path=\"url(#p532b730fb0)\" d=\"M 781.89 266.057143 \r\nL 808.603448 266.057143 \r\nL 808.603448 183.222857 \r\nL 781.89 183.222857 \r\nz\r\n\" style=\"fill:none;stroke:#ffffff;stroke-linejoin:miter;\"/>\r\n   </g>\r\n   <g id=\"patch_8\">\r\n    <path clip-path=\"url(#p532b730fb0)\" d=\"M 481.5 271.752 \r\nC 494.656909 271.752 507.276716 266.787982 516.580055 257.953215 \r\nC 525.883394 249.118447 531.11069 237.134248 531.11069 224.64 \r\nC 531.11069 212.145752 525.883394 200.161553 516.580055 191.326785 \r\nC 507.276716 182.492018 494.656909 177.528 481.5 177.528 \r\nC 468.343091 177.528 455.723284 182.492018 446.419945 191.326785 \r\nC 437.116606 200.161553 431.88931 212.145752 431.88931 224.64 \r\nC 431.88931 237.134248 437.116606 249.118447 446.419945 257.953215 \r\nC 455.723284 266.787982 468.343091 271.752 481.5 271.752 \r\nz\r\n\" style=\"fill:none;stroke:#ffffff;stroke-linejoin:miter;\"/>\r\n   </g>\r\n   <g id=\"patch_9\">\r\n    <path clip-path=\"url(#p532b730fb0)\" d=\"M 481.5 226.348457 \r\nC 481.977119 226.348457 482.43476 226.168443 482.772134 225.848062 \r\nC 483.109508 225.52768 483.299069 225.093088 483.299069 224.64 \r\nC 483.299069 224.186912 483.109508 223.75232 482.772134 223.431938 \r\nC 482.43476 223.111557 481.977119 222.931543 481.5 222.931543 \r\nC 481.022881 222.931543 480.56524 223.111557 480.227866 223.431938 \r\nC 479.890492 223.75232 479.700931 224.186912 479.700931 224.64 \r\nC 479.700931 225.093088 479.890492 225.52768 480.227866 225.848062 \r\nC 480.56524 226.168443 481.022881 226.348457 481.5 226.348457 \r\nz\r\n\" style=\"fill:#ffffff;stroke:#ffffff;stroke-linejoin:miter;\"/>\r\n   </g>\r\n   <g id=\"patch_10\">\r\n    <path clip-path=\"url(#p532b730fb0)\" d=\"M 207.278276 226.348457 \r\nC 207.755395 226.348457 208.213036 226.168443 208.55041 225.848062 \r\nC 208.887784 225.52768 209.077345 225.093088 209.077345 224.64 \r\nC 209.077345 224.186912 208.887784 223.75232 208.55041 223.431938 \r\nC 208.213036 223.111557 207.755395 222.931543 207.278276 222.931543 \r\nC 206.801157 222.931543 206.343516 223.111557 206.006142 223.431938 \r\nC 205.668768 223.75232 205.479207 224.186912 205.479207 224.64 \r\nC 205.479207 225.093088 205.668768 225.52768 206.006142 225.848062 \r\nC 206.343516 226.168443 206.801157 226.348457 207.278276 226.348457 \r\nz\r\n\" style=\"fill:#ffffff;stroke:#ffffff;stroke-linejoin:miter;\"/>\r\n   </g>\r\n   <g id=\"patch_11\">\r\n    <path clip-path=\"url(#p532b730fb0)\" d=\"M 755.721724 226.348457 \r\nC 756.198843 226.348457 756.656484 226.168443 756.993858 225.848062 \r\nC 757.331232 225.52768 757.520793 225.093088 757.520793 224.64 \r\nC 757.520793 224.186912 757.331232 223.75232 756.993858 223.431938 \r\nC 756.656484 223.111557 756.198843 222.931543 755.721724 222.931543 \r\nC 755.244605 222.931543 754.786964 223.111557 754.44959 223.431938 \r\nC 754.112216 223.75232 753.922655 224.186912 753.922655 224.64 \r\nC 753.922655 225.093088 754.112216 225.52768 754.44959 225.848062 \r\nC 754.786964 226.168443 755.244605 226.348457 755.721724 226.348457 \r\nz\r\n\" style=\"fill:#ffffff;stroke:#ffffff;stroke-linejoin:miter;\"/>\r\n   </g>\r\n   <g id=\"patch_12\">\r\n    <path clip-path=\"url(#p532b730fb0)\" d=\"M 235.663112 256.763964 \r\nC 240.602587 252.828005 244.574836 247.912 247.29989 242.362436 \r\nC 250.024944 236.812873 251.437241 230.763266 251.437241 224.64 \r\nC 251.437241 218.516734 250.024944 212.467127 247.29989 206.917564 \r\nC 244.574836 201.368 240.602587 196.451995 235.663112 192.516036 \r\n\" style=\"fill:none;stroke:#ffffff;stroke-linejoin:miter;\"/>\r\n   </g>\r\n   <g id=\"patch_13\">\r\n    <path clip-path=\"url(#p532b730fb0)\" d=\"M 727.336888 192.516036 \r\nC 722.397413 196.451995 718.425164 201.368 715.70011 206.917564 \r\nC 712.975056 212.467127 711.562759 218.516734 711.562759 224.64 \r\nC 711.562759 230.763266 712.975056 236.812873 715.70011 242.362436 \r\nC 718.425164 247.912 722.397413 252.828005 727.336888 256.763964 \r\n\" style=\"fill:none;stroke:#ffffff;stroke-linejoin:miter;\"/>\r\n   </g>\r\n  </g>\r\n </g>\r\n <defs>\r\n  <clipPath id=\"p532b730fb0\">\r\n   <rect height=\"434.88\" width=\"948.6\" x=\"7.2\" y=\"7.2\"/>\r\n  </clipPath>\r\n </defs>\r\n</svg>\r\n",
      "image/png": "[encoded data removed]"
     },
     "metadata": {
      "needs_background": "light"
     }
    }
   ],
   "source": [
    "newpitch = Pitch()"
   ]
  },
  {
   "cell_type": "code",
   "execution_count": 5,
   "metadata": {},
   "outputs": [
    {
     "output_type": "execute_result",
     "data": {
      "text/plain": [
       "<matplotlib.patches.Rectangle at 0x225d8553eb0>"
      ]
     },
     "metadata": {},
     "execution_count": 5
    }
   ],
   "source": [
    "newpitch.axes.add_artist(Rectangle([60-1.5*1,40-1*1], width=2.5*1, height=2.5*1, fill=True, ec = \"red\", fc =\"red\"))"
   ]
  },
  {
   "cell_type": "code",
   "execution_count": 16,
   "metadata": {},
   "outputs": [
    {
     "output_type": "execute_result",
     "data": {
      "text/plain": [
       "<AxesSubplot:>"
      ]
     },
     "metadata": {},
     "execution_count": 16
    }
   ],
   "source": []
  },
  {
   "cell_type": "code",
   "execution_count": null,
   "metadata": {},
   "outputs": [],
   "source": []
  }
 ]
}