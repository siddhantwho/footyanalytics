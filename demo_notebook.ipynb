{
 "cells": [
  {
   "cell_type": "markdown",
   "metadata": {},
   "source": [
    "A brief python notebook showing how to use some of the tools in this repository. Let's retrieve the data from the world cup final from StatsBomb"
   ]
  },
  {
   "cell_type": "code",
   "execution_count": 29,
   "metadata": {},
   "outputs": [],
   "source": [
    "from footyanalytics import get_, plot_action, train_model, matchclass\n",
    "import pandas as pd\n",
    "import xgboost\n",
    "from footyanalytics.plot_action import plot_actions\n",
    "\n",
    "import matplotlib\n",
    "import matplotlib.pyplot as plt\n",
    "import matplotlib.image as mpimg\n",
    "import matplotlib.lines as mlines\n",
    "import numpy as np"
   ]
  },
  {
   "cell_type": "code",
   "execution_count": 2,
   "metadata": {},
   "outputs": [],
   "source": [
    "wcfinal = get_.get_match(8658, 43, 3)"
   ]
  },
  {
   "cell_type": "code",
   "execution_count": 3,
   "metadata": {},
   "outputs": [],
   "source": [
    "finalmatch = matchclass.Match(wcfinal[0],wcfinal[1],wcfinal[2],wcfinal[3])"
   ]
  },
  {
   "cell_type": "code",
   "execution_count": 4,
   "metadata": {},
   "outputs": [],
   "source": [
    "allevents = finalmatch.fullevents()"
   ]
  },
  {
   "cell_type": "code",
   "execution_count": 5,
   "metadata": {},
   "outputs": [
    {
     "data": {
      "text/html": [
       "<div>\n",
       "<style scoped>\n",
       "    .dataframe tbody tr th:only-of-type {\n",
       "        vertical-align: middle;\n",
       "    }\n",
       "\n",
       "    .dataframe tbody tr th {\n",
       "        vertical-align: top;\n",
       "    }\n",
       "\n",
       "    .dataframe thead th {\n",
       "        text-align: right;\n",
       "    }\n",
       "</style>\n",
       "<table border=\"1\" class=\"dataframe\">\n",
       "  <thead>\n",
       "    <tr style=\"text-align: right;\">\n",
       "      <th></th>\n",
       "      <th>0</th>\n",
       "    </tr>\n",
       "  </thead>\n",
       "  <tbody>\n",
       "    <tr>\n",
       "      <th>home_team_name</th>\n",
       "      <td>France</td>\n",
       "    </tr>\n",
       "    <tr>\n",
       "      <th>home_team_id</th>\n",
       "      <td>771</td>\n",
       "    </tr>\n",
       "    <tr>\n",
       "      <th>away_team_name</th>\n",
       "      <td>Croatia</td>\n",
       "    </tr>\n",
       "    <tr>\n",
       "      <th>away_team_id</th>\n",
       "      <td>785</td>\n",
       "    </tr>\n",
       "    <tr>\n",
       "      <th>match_id</th>\n",
       "      <td>8658</td>\n",
       "    </tr>\n",
       "    <tr>\n",
       "      <th>match_date</th>\n",
       "      <td>2018-07-15</td>\n",
       "    </tr>\n",
       "    <tr>\n",
       "      <th>kick_off_time</th>\n",
       "      <td>17:00:00.000</td>\n",
       "    </tr>\n",
       "    <tr>\n",
       "      <th>home_score</th>\n",
       "      <td>4</td>\n",
       "    </tr>\n",
       "    <tr>\n",
       "      <th>away_score</th>\n",
       "      <td>2</td>\n",
       "    </tr>\n",
       "    <tr>\n",
       "      <th>competition_id</th>\n",
       "      <td>43</td>\n",
       "    </tr>\n",
       "    <tr>\n",
       "      <th>competition_name</th>\n",
       "      <td>FIFA World Cup</td>\n",
       "    </tr>\n",
       "    <tr>\n",
       "      <th>home_manager</th>\n",
       "      <td>Didier Deschamps</td>\n",
       "    </tr>\n",
       "    <tr>\n",
       "      <th>away_manager</th>\n",
       "      <td>Zlatko Dalić</td>\n",
       "    </tr>\n",
       "    <tr>\n",
       "      <th>home_manager_id</th>\n",
       "      <td>545</td>\n",
       "    </tr>\n",
       "    <tr>\n",
       "      <th>away_manager_id</th>\n",
       "      <td>307</td>\n",
       "    </tr>\n",
       "    <tr>\n",
       "      <th>stadium</th>\n",
       "      <td>{'id': 255, 'name': 'Stadion Luzhniki', 'count...</td>\n",
       "    </tr>\n",
       "    <tr>\n",
       "      <th>referee</th>\n",
       "      <td>{'id': 730, 'name': 'N. Pitana'}</td>\n",
       "    </tr>\n",
       "    <tr>\n",
       "      <th>stage_id</th>\n",
       "      <td>26</td>\n",
       "    </tr>\n",
       "    <tr>\n",
       "      <th>stage_name</th>\n",
       "      <td>Final</td>\n",
       "    </tr>\n",
       "  </tbody>\n",
       "</table>\n",
       "</div>"
      ],
      "text/plain": [
       "                                                                  0\n",
       "home_team_name                                               France\n",
       "home_team_id                                                    771\n",
       "away_team_name                                              Croatia\n",
       "away_team_id                                                    785\n",
       "match_id                                                       8658\n",
       "match_date                                               2018-07-15\n",
       "kick_off_time                                          17:00:00.000\n",
       "home_score                                                        4\n",
       "away_score                                                        2\n",
       "competition_id                                                   43\n",
       "competition_name                                     FIFA World Cup\n",
       "home_manager                                       Didier Deschamps\n",
       "away_manager                                           Zlatko Dalić\n",
       "home_manager_id                                                 545\n",
       "away_manager_id                                                 307\n",
       "stadium           {'id': 255, 'name': 'Stadion Luzhniki', 'count...\n",
       "referee                            {'id': 730, 'name': 'N. Pitana'}\n",
       "stage_id                                                         26\n",
       "stage_name                                                    Final"
      ]
     },
     "execution_count": 5,
     "metadata": {},
     "output_type": "execute_result"
    }
   ],
   "source": [
    "pd.DataFrame(finalmatch.info()).transpose()"
   ]
  },
  {
   "cell_type": "code",
   "execution_count": 9,
   "metadata": {},
   "outputs": [],
   "source": [
    "X, Y = get_.get_data()\n",
    "#X = pd.read_csv('wcfeatures_csv.csv')\n",
    "#Y = pd.read_csv('wclabels_csv.csv')"
   ]
  },
  {
   "cell_type": "code",
   "execution_count": 10,
   "metadata": {},
   "outputs": [
    {
     "name": "stdout",
     "output_type": "stream",
     "text": [
      "### Y: scores ###\n",
      "  Brier score: 0.00474 (0.81920)\n",
      "  log loss score: 0.02300 (0.64377)\n",
      "  ROC AUC: 0.92957\n",
      "### Y: concedes ###\n",
      "  Brier score: 0.00178 (0.86978)\n",
      "  log loss score: 0.00904 (0.61344)\n",
      "  ROC AUC: 0.96280\n",
      "### Y: goal_from_shot ###\n",
      "  Brier score: 0.00007 (0.09286)\n",
      "  log loss score: 0.00031 (0.04698)\n",
      "  ROC AUC: 0.99999\n"
     ]
    }
   ],
   "source": [
    "model = train_model.train_model(X,Y)"
   ]
  },
  {
   "cell_type": "code",
   "execution_count": 11,
   "metadata": {},
   "outputs": [],
   "source": [
    "features, labels = finalmatch.train_XY()"
   ]
  },
  {
   "cell_type": "code",
   "execution_count": 13,
   "metadata": {},
   "outputs": [],
   "source": [
    "fracro = train_model.label_match(X, Y, features, model, allevents)"
   ]
  },
  {
   "cell_type": "code",
   "execution_count": 17,
   "metadata": {},
   "outputs": [],
   "source": [
    "goal = fracro[2045:2060]"
   ]
  },
  {
   "cell_type": "code",
   "execution_count": 34,
   "metadata": {},
   "outputs": [
    {
     "data": {
      "image/png": "[encoded data removed]",
      "text/plain": [
       "<Figure size 1800x2700 with 2 Axes>"
      ]
     },
     "metadata": {
      "needs_background": "light"
     },
     "output_type": "display_data"
    }
   ],
   "source": [
    "plot_actions(goal,'France')"
   ]
  },
  {
   "cell_type": "code",
   "execution_count": 36,
   "metadata": {},
   "outputs": [
    {
     "data": {
      "text/html": [
       "<div>\n",
       "<style scoped>\n",
       "    .dataframe tbody tr th:only-of-type {\n",
       "        vertical-align: middle;\n",
       "    }\n",
       "\n",
       "    .dataframe tbody tr th {\n",
       "        vertical-align: top;\n",
       "    }\n",
       "\n",
       "    .dataframe thead th {\n",
       "        text-align: right;\n",
       "    }\n",
       "</style>\n",
       "<table border=\"1\" class=\"dataframe\">\n",
       "  <thead>\n",
       "    <tr style=\"text-align: right;\">\n",
       "      <th></th>\n",
       "      <th>player</th>\n",
       "      <th>team</th>\n",
       "      <th>action</th>\n",
       "      <th>result</th>\n",
       "      <th>offence_value</th>\n",
       "    </tr>\n",
       "  </thead>\n",
       "  <tbody>\n",
       "    <tr>\n",
       "      <th>2045</th>\n",
       "      <td>Steven Nzonzi</td>\n",
       "      <td>France</td>\n",
       "      <td>Ball Receipt*</td>\n",
       "      <td>Complete</td>\n",
       "      <td>34.983580</td>\n",
       "    </tr>\n",
       "    <tr>\n",
       "      <th>2046</th>\n",
       "      <td>Steven Nzonzi</td>\n",
       "      <td>France</td>\n",
       "      <td>Pass</td>\n",
       "      <td>Complete</td>\n",
       "      <td>34.766510</td>\n",
       "    </tr>\n",
       "    <tr>\n",
       "      <th>2047</th>\n",
       "      <td>Paul Pogba</td>\n",
       "      <td>France</td>\n",
       "      <td>Ball Receipt*</td>\n",
       "      <td>Complete</td>\n",
       "      <td>34.915237</td>\n",
       "    </tr>\n",
       "    <tr>\n",
       "      <th>2048</th>\n",
       "      <td>Paul Pogba</td>\n",
       "      <td>France</td>\n",
       "      <td>Carry</td>\n",
       "      <td>Complete</td>\n",
       "      <td>34.857796</td>\n",
       "    </tr>\n",
       "    <tr>\n",
       "      <th>2049</th>\n",
       "      <td>Paul Pogba</td>\n",
       "      <td>France</td>\n",
       "      <td>Pass</td>\n",
       "      <td>Complete</td>\n",
       "      <td>35.134512</td>\n",
       "    </tr>\n",
       "    <tr>\n",
       "      <th>2050</th>\n",
       "      <td>Mario Mandžukić</td>\n",
       "      <td>Croatia</td>\n",
       "      <td>Pressure</td>\n",
       "      <td>Defensive Pressure</td>\n",
       "      <td>34.903668</td>\n",
       "    </tr>\n",
       "    <tr>\n",
       "      <th>2051</th>\n",
       "      <td>Lucas Hernandez</td>\n",
       "      <td>France</td>\n",
       "      <td>Ball Receipt*</td>\n",
       "      <td>Complete</td>\n",
       "      <td>34.877806</td>\n",
       "    </tr>\n",
       "    <tr>\n",
       "      <th>2052</th>\n",
       "      <td>Lucas Hernandez</td>\n",
       "      <td>France</td>\n",
       "      <td>Carry</td>\n",
       "      <td>Complete</td>\n",
       "      <td>34.733098</td>\n",
       "    </tr>\n",
       "    <tr>\n",
       "      <th>2053</th>\n",
       "      <td>Mario Mandžukić</td>\n",
       "      <td>Croatia</td>\n",
       "      <td>Dribbled Past</td>\n",
       "      <td>Failure</td>\n",
       "      <td>34.932498</td>\n",
       "    </tr>\n",
       "    <tr>\n",
       "      <th>2054</th>\n",
       "      <td>Lucas Hernandez</td>\n",
       "      <td>France</td>\n",
       "      <td>Dribble</td>\n",
       "      <td>Complete</td>\n",
       "      <td>35.210818</td>\n",
       "    </tr>\n",
       "    <tr>\n",
       "      <th>2055</th>\n",
       "      <td>Lucas Hernandez</td>\n",
       "      <td>France</td>\n",
       "      <td>Carry</td>\n",
       "      <td>Complete</td>\n",
       "      <td>35.336966</td>\n",
       "    </tr>\n",
       "    <tr>\n",
       "      <th>2056</th>\n",
       "      <td>Lucas Hernandez</td>\n",
       "      <td>France</td>\n",
       "      <td>Pass</td>\n",
       "      <td>Complete</td>\n",
       "      <td>36.018013</td>\n",
       "    </tr>\n",
       "    <tr>\n",
       "      <th>2057</th>\n",
       "      <td>Kylian Mbappé</td>\n",
       "      <td>France</td>\n",
       "      <td>Ball Receipt*</td>\n",
       "      <td>Complete</td>\n",
       "      <td>35.313206</td>\n",
       "    </tr>\n",
       "    <tr>\n",
       "      <th>2058</th>\n",
       "      <td>Kylian Mbappé</td>\n",
       "      <td>France</td>\n",
       "      <td>Carry</td>\n",
       "      <td>Complete</td>\n",
       "      <td>36.114813</td>\n",
       "    </tr>\n",
       "    <tr>\n",
       "      <th>2059</th>\n",
       "      <td>Kylian Mbappé</td>\n",
       "      <td>France</td>\n",
       "      <td>Shot</td>\n",
       "      <td>Goal</td>\n",
       "      <td>78.776983</td>\n",
       "    </tr>\n",
       "  </tbody>\n",
       "</table>\n",
       "</div>"
      ],
      "text/plain": [
       "               player     team         action              result  \\\n",
       "2045    Steven Nzonzi   France  Ball Receipt*            Complete   \n",
       "2046    Steven Nzonzi   France           Pass            Complete   \n",
       "2047       Paul Pogba   France  Ball Receipt*            Complete   \n",
       "2048       Paul Pogba   France          Carry            Complete   \n",
       "2049       Paul Pogba   France           Pass            Complete   \n",
       "2050  Mario Mandžukić  Croatia       Pressure  Defensive Pressure   \n",
       "2051  Lucas Hernandez   France  Ball Receipt*            Complete   \n",
       "2052  Lucas Hernandez   France          Carry            Complete   \n",
       "2053  Mario Mandžukić  Croatia  Dribbled Past             Failure   \n",
       "2054  Lucas Hernandez   France        Dribble            Complete   \n",
       "2055  Lucas Hernandez   France          Carry            Complete   \n",
       "2056  Lucas Hernandez   France           Pass            Complete   \n",
       "2057    Kylian Mbappé   France  Ball Receipt*            Complete   \n",
       "2058    Kylian Mbappé   France          Carry            Complete   \n",
       "2059    Kylian Mbappé   France           Shot                Goal   \n",
       "\n",
       "      offence_value  \n",
       "2045      34.983580  \n",
       "2046      34.766510  \n",
       "2047      34.915237  \n",
       "2048      34.857796  \n",
       "2049      35.134512  \n",
       "2050      34.903668  \n",
       "2051      34.877806  \n",
       "2052      34.733098  \n",
       "2053      34.932498  \n",
       "2054      35.210818  \n",
       "2055      35.336966  \n",
       "2056      36.018013  \n",
       "2057      35.313206  \n",
       "2058      36.114813  \n",
       "2059      78.776983  "
      ]
     },
     "execution_count": 36,
     "metadata": {},
     "output_type": "execute_result"
    }
   ],
   "source": [
    "goal[['player','team','action','result','offence_value']]"
   ]
  },
  {
   "cell_type": "code",
   "execution_count": null,
   "metadata": {},
   "outputs": [],
   "source": []
  }
 ],
 "metadata": {
  "kernelspec": {
   "display_name": "Python 3",
   "language": "python",
   "name": "python3"
  },
  "language_info": {
   "codemirror_mode": {
    "name": "ipython",
    "version": 3
   },
   "file_extension": ".py",
   "mimetype": "text/x-python",
   "name": "python",
   "nbconvert_exporter": "python",
   "pygments_lexer": "ipython3",
   "version": "3.7.1"
  }
 },
 "nbformat": 4,
 "nbformat_minor": 2
}
